{
 "cells": [
  {
   "cell_type": "code",
   "execution_count": 1,
   "metadata": {},
   "outputs": [],
   "source": [
    "#importamos librerias\n",
    "import pandas as pd\n",
    "import os\n",
    "import matplotlib.pyplot as plt\n",
    "import numpy as np"
   ]
  },
  {
   "cell_type": "code",
   "execution_count": 2,
   "metadata": {},
   "outputs": [
    {
     "data": {
      "text/plain": [
       "'C:\\\\Users\\\\axelt\\\\Documents\\\\UVG4\\\\InteligenciaArtificial\\\\RegresionLinealPrueba'"
      ]
     },
     "execution_count": 2,
     "metadata": {},
     "output_type": "execute_result"
    }
   ],
   "source": [
    "pwd"
   ]
  },
  {
   "cell_type": "code",
   "execution_count": 3,
   "metadata": {},
   "outputs": [
    {
     "data": {
      "text/html": [
       "<div>\n",
       "<style scoped>\n",
       "    .dataframe tbody tr th:only-of-type {\n",
       "        vertical-align: middle;\n",
       "    }\n",
       "\n",
       "    .dataframe tbody tr th {\n",
       "        vertical-align: top;\n",
       "    }\n",
       "\n",
       "    .dataframe thead th {\n",
       "        text-align: right;\n",
       "    }\n",
       "</style>\n",
       "<table border=\"1\" class=\"dataframe\">\n",
       "  <thead>\n",
       "    <tr style=\"text-align: right;\">\n",
       "      <th></th>\n",
       "      <th>Serial No.</th>\n",
       "      <th>GRE_Score</th>\n",
       "      <th>TOEFL_Score</th>\n",
       "      <th>University Rating</th>\n",
       "      <th>SOP</th>\n",
       "      <th>LOR</th>\n",
       "      <th>CGPA</th>\n",
       "      <th>Research</th>\n",
       "      <th>Chance_of_Admit</th>\n",
       "    </tr>\n",
       "  </thead>\n",
       "  <tbody>\n",
       "    <tr>\n",
       "      <th>0</th>\n",
       "      <td>1</td>\n",
       "      <td>337</td>\n",
       "      <td>118</td>\n",
       "      <td>4</td>\n",
       "      <td>4.5</td>\n",
       "      <td>4.5</td>\n",
       "      <td>9.65</td>\n",
       "      <td>1</td>\n",
       "      <td>0.92</td>\n",
       "    </tr>\n",
       "    <tr>\n",
       "      <th>1</th>\n",
       "      <td>2</td>\n",
       "      <td>324</td>\n",
       "      <td>107</td>\n",
       "      <td>4</td>\n",
       "      <td>4.0</td>\n",
       "      <td>4.5</td>\n",
       "      <td>8.87</td>\n",
       "      <td>1</td>\n",
       "      <td>0.76</td>\n",
       "    </tr>\n",
       "    <tr>\n",
       "      <th>2</th>\n",
       "      <td>3</td>\n",
       "      <td>316</td>\n",
       "      <td>104</td>\n",
       "      <td>3</td>\n",
       "      <td>3.0</td>\n",
       "      <td>3.5</td>\n",
       "      <td>8.00</td>\n",
       "      <td>1</td>\n",
       "      <td>0.72</td>\n",
       "    </tr>\n",
       "    <tr>\n",
       "      <th>3</th>\n",
       "      <td>4</td>\n",
       "      <td>322</td>\n",
       "      <td>110</td>\n",
       "      <td>3</td>\n",
       "      <td>3.5</td>\n",
       "      <td>2.5</td>\n",
       "      <td>8.67</td>\n",
       "      <td>1</td>\n",
       "      <td>0.80</td>\n",
       "    </tr>\n",
       "    <tr>\n",
       "      <th>4</th>\n",
       "      <td>5</td>\n",
       "      <td>314</td>\n",
       "      <td>103</td>\n",
       "      <td>2</td>\n",
       "      <td>2.0</td>\n",
       "      <td>3.0</td>\n",
       "      <td>8.21</td>\n",
       "      <td>0</td>\n",
       "      <td>0.65</td>\n",
       "    </tr>\n",
       "  </tbody>\n",
       "</table>\n",
       "</div>"
      ],
      "text/plain": [
       "   Serial No.  GRE_Score  TOEFL_Score  University Rating  SOP  LOR   CGPA  \\\n",
       "0           1        337          118                  4  4.5   4.5  9.65   \n",
       "1           2        324          107                  4  4.0   4.5  8.87   \n",
       "2           3        316          104                  3  3.0   3.5  8.00   \n",
       "3           4        322          110                  3  3.5   2.5  8.67   \n",
       "4           5        314          103                  2  2.0   3.0  8.21   \n",
       "\n",
       "   Research  Chance_of_Admit   \n",
       "0         1              0.92  \n",
       "1         1              0.76  \n",
       "2         1              0.72  \n",
       "3         1              0.80  \n",
       "4         0              0.65  "
      ]
     },
     "execution_count": 3,
     "metadata": {},
     "output_type": "execute_result"
    }
   ],
   "source": [
    "#Creamos una variable para leer el archivo CSV\n",
    "blinky = pd.read_csv(\"Admission_Predict.csv\")\n",
    "blinky.head()"
   ]
  },
  {
   "cell_type": "code",
   "execution_count": 4,
   "metadata": {},
   "outputs": [
    {
     "data": {
      "image/png": "[encoded data removed]",
      "text/plain": [
       "<Figure size 432x288 with 1 Axes>"
      ]
     },
     "metadata": {
      "needs_background": "light"
     },
     "output_type": "display_data"
    }
   ],
   "source": [
    "#Asignamos a la variable x los datos de GRE Score\n",
    "#Asigne gre score ya que es la prueba que se realiza en USA para conocer los conocimientos de los graduados y es\n",
    "#necesaria para optar a un postgrado \n",
    "X =  blinky.GRE_Score\n",
    "y = blinky.iloc[:, 8].values\n",
    "XM = np.array([y])\n",
    "#Asignamos a la variable y los datos de Chance of Admit              \n",
    "ym = np.array([X]) \n",
    "plt.scatter(XM, ym, color = 'blue')\n",
    "plt.title('Predicción de admición')\n",
    "plt.xlabel('Chance of admit')\n",
    "plt.ylabel('GRE Score')\n",
    "plt.show()"
   ]
  },
  {
   "cell_type": "code",
   "execution_count": 5,
   "metadata": {},
   "outputs": [],
   "source": [
    "TRAINING_ELEMENTS = 200\n",
    "x = np.linspace(\n",
    "    -10,\n",
    "    30,\n",
    "    TRAINING_ELEMENTS\n",
    ")\n",
    "\n",
    "X = np.vstack(\n",
    "    (\n",
    "        np.ones(TRAINING_ELEMENTS),\n",
    "        x,\n",
    "        # x ** 2,\n",
    "        x ** 3,\n",
    "    )\n",
    ").T\n",
    "\n",
    "# y = x ** 3 + 50 - 100 * np.random.rand(TRAINING_ELEMENTS)\n",
    "y = 5 + 2 * x ** 3 + np.random.randint(-15, 15, TRAINING_ELEMENTS)\n",
    "dataset_1 = (X, y.reshape(TRAINING_ELEMENTS, 1))"
   ]
  },
  {
   "cell_type": "code",
   "execution_count": 6,
   "metadata": {},
   "outputs": [],
   "source": [
    "#Se define diferentes cosas que nos ayudaran con nuestro resultado final \n",
    "#Se define el decenso al gradiente \n",
    "def gradient_descent(\n",
    "        X,\n",
    "        y,\n",
    "        theta_0,\n",
    "        cost,\n",
    "        cost_derivate,\n",
    "        alpha=0.01,\n",
    "        treshold=0.0001,\n",
    "        max_iter=10000):\n",
    "    theta, i = theta_0, 0\n",
    "    costs = []\n",
    "    gradient_norms = []\n",
    "    while np.linalg.norm(cost_derivate(X, y, theta)) > treshold and i < max_iter:\n",
    "        theta -= alpha * cost_derivate(X, y, theta)\n",
    "        i += 1\n",
    "        costs.append(cost(X, y, theta))\n",
    "        gradient_norms.append(cost_derivate(X, y, theta))\n",
    "    return theta, costs, gradient_norms"
   ]
  },
  {
   "cell_type": "code",
   "execution_count": 7,
   "metadata": {},
   "outputs": [],
   "source": [
    "#Creamos la definicion para calcular el costo linear \n",
    "def linear_cost(X, y, theta):\n",
    "    m, _ = X.shape\n",
    "    h = np.matmul(X, theta)\n",
    "    sq = (y - h) ** 2\n",
    "    return sq.sum() / (2 * m)"
   ]
  },
  {
   "cell_type": "code",
   "execution_count": 8,
   "metadata": {},
   "outputs": [],
   "source": [
    "def linear_cost_derivate(X, y, theta):\n",
    "    h = np.matmul(X, theta)\n",
    "    m, _ = X.shape\n",
    "    return np.matmul((h - y).T, X).T / m"
   ]
  },
  {
   "cell_type": "code",
   "execution_count": 9,
   "metadata": {},
   "outputs": [],
   "source": [
    "#Se entrenan los datos\n",
    "(X, y) = dataset_1\n",
    "m, n = X.shape"
   ]
  },
  {
   "cell_type": "code",
   "execution_count": 10,
   "metadata": {},
   "outputs": [
    {
     "name": "stdout",
     "output_type": "stream",
     "text": [
      "THETA: [[0.62345774]\n",
      " [0.34818476]\n",
      " [1.99980329]]\n"
     ]
    }
   ],
   "source": [
    "theta_0 = np.random.rand(n, 1)\n",
    "theta, costs, gradient_norms = gradient_descent(\n",
    "    X,\n",
    "    y,\n",
    "    theta_0,\n",
    "    linear_cost,\n",
    "    linear_cost_derivate,\n",
    "    alpha=0.000000001,\n",
    "    treshold=0.001,\n",
    "    max_iter=10000\n",
    ")\n",
    "print ('THETA:', theta)"
   ]
  },
  {
   "cell_type": "code",
   "execution_count": 51,
   "metadata": {},
   "outputs": [
    {
     "data": {
      "image/png": "[encoded data removed]",
      "text/plain": [
       "<Figure size 432x288 with 1 Axes>"
      ]
     },
     "metadata": {
      "needs_background": "light"
     },
     "output_type": "display_data"
    }
   ],
   "source": [
    "# Se dibuja la grafica con los datos entrenados \n",
    "plt.scatter(blinky.GRE_Score, blinky.iloc[:, 8].values)\n",
    "plt.plot(X[:, 2], np.matmul(X, theta), color='green')\n",
    "plt.show()"
   ]
  },
  {
   "cell_type": "code",
   "execution_count": 40,
   "metadata": {},
   "outputs": [
    {
     "data": {
      "image/png": "[encoded data removed]",
      "text/plain": [
       "<Figure size 432x288 with 1 Axes>"
      ]
     },
     "metadata": {
      "needs_background": "light"
     },
     "output_type": "display_data"
    }
   ],
   "source": [
    "# Se dibuja la grafica con los datos entrenados \n",
    "plt.scatter(X[:, 1], y)\n",
    "plt.plot(X[:, 1], np.matmul(X, theta), color='green')\n",
    "plt.show()\n",
    "#Esta cuerva esta mejor que en anterior que saque, lo que quiere decir que estos datos estan mejor para evaluar"
   ]
  },
  {
   "cell_type": "code",
   "execution_count": 12,
   "metadata": {},
   "outputs": [],
   "source": [
    "#Separamos los datos de entrenamiento y prueba\n",
    "from sklearn.model_selection import train_test_split\n",
    "X_train_p, X_test_p, y_train_p, y_test_p = train_test_split(XM.reshape(-1,1), ym.reshape(-1,1), test_size=0.2)"
   ]
  },
  {
   "cell_type": "code",
   "execution_count": 13,
   "metadata": {},
   "outputs": [],
   "source": [
    "from sklearn.preprocessing import PolynomialFeatures\n",
    "#Se define el grado del polinomio\n",
    "poli_reg = PolynomialFeatures(degree = 1)"
   ]
  },
  {
   "cell_type": "code",
   "execution_count": 14,
   "metadata": {},
   "outputs": [],
   "source": [
    "# Tomamos las caracteristicas existentes a caracteristicas de mayor grado \n",
    "X_train_poli = poli_reg.fit_transform(X_train_p)\n",
    "X_test_poli = poli_reg.fit_transform(X_test_p)"
   ]
  },
  {
   "cell_type": "code",
   "execution_count": 15,
   "metadata": {},
   "outputs": [],
   "source": [
    "#Definir modelo de regresion linear \n",
    "from sklearn import datasets, linear_model\n",
    "pr = linear_model.LinearRegression()"
   ]
  },
  {
   "cell_type": "code",
   "execution_count": 16,
   "metadata": {},
   "outputs": [
    {
     "data": {
      "text/plain": [
       "LinearRegression(copy_X=True, fit_intercept=True, n_jobs=None, normalize=False)"
      ]
     },
     "execution_count": 16,
     "metadata": {},
     "output_type": "execute_result"
    }
   ],
   "source": [
    "#Entrenar datos\n",
    "pr.fit(X_train_poli, y_train_p)"
   ]
  },
  {
   "cell_type": "code",
   "execution_count": 17,
   "metadata": {},
   "outputs": [],
   "source": [
    "#Se realiza la prediccion\n",
    "Y_pred_pr = pr.predict(X_test_poli)"
   ]
  },
  {
   "cell_type": "code",
   "execution_count": 18,
   "metadata": {},
   "outputs": [
    {
     "data": {
      "image/png": "[encoded data removed]",
      "text/plain": [
       "<Figure size 432x288 with 1 Axes>"
      ]
     },
     "metadata": {
      "needs_background": "light"
     },
     "output_type": "display_data"
    }
   ],
   "source": [
    "#Graficamos los datos junto con el modelo\\n\",\n",
    "plt.scatter(X_test_p, y_test_p)\n",
    "plt.plot(X_test_p, Y_pred_pr, color='red', linewidth=3)\n",
    "plt.show()"
   ]
  },
  {
   "cell_type": "code",
   "execution_count": 19,
   "metadata": {},
   "outputs": [],
   "source": [
    "#Los datos que considere importantes para mi laboratorio, son Gre_Score y Chance of admit, los cuales despues de compararlos\n",
    "#con los demas datos son los que considero mejor nos ayudan a poder predecir, ya que directamente evaluan si un candidato\n",
    "#sera aceptado. Creo que mi modelo funciona porque la linea que dibuja tiene un forma logica, conforme mejor sea el Gre_Score\n",
    "#la probabilidad de ser admitido sube, y la prediccion puede ser mas acertada, aparte el lamda que use me permite tener \n",
    "#una fijura mas uniforme conforme a los datos que use. "
   ]
  }
 ],
 "metadata": {
  "kernelspec": {
   "display_name": "Python 3",
   "language": "python",
   "name": "python3"
  },
  "language_info": {
   "codemirror_mode": {
    "name": "ipython",
    "version": 3
   },
   "file_extension": ".py",
   "mimetype": "text/x-python",
   "name": "python",
   "nbconvert_exporter": "python",
   "pygments_lexer": "ipython3",
   "version": "3.7.3"
  }
 },
 "nbformat": 4,
 "nbformat_minor": 4
}
